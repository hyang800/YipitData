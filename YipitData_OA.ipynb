{
  "nbformat": 4,
  "nbformat_minor": 0,
  "metadata": {
    "colab": {
      "name": "YipitData OA.ipynb",
      "provenance": [],
      "collapsed_sections": []
    },
    "kernelspec": {
      "name": "python3",
      "display_name": "Python 3"
    },
    "language_info": {
      "name": "python"
    }
  },
  "cells": [
    {
      "cell_type": "markdown",
      "source": [
        "# YipitData OA(Hao Yang)"
      ],
      "metadata": {
        "id": "Ul3UXVeFpsgy"
      }
    },
    {
      "cell_type": "markdown",
      "source": [
        "## Data multiplication, Data Cleaning"
      ],
      "metadata": {
        "id": "TblrRljUqpJM"
      }
    },
    {
      "cell_type": "markdown",
      "source": [
        "### Part of sales data"
      ],
      "metadata": {
        "id": "B1Jo3nEUk9UV"
      }
    },
    {
      "cell_type": "code",
      "source": [
        "import pandas as pd\n",
        "import numpy as np"
      ],
      "metadata": {
        "id": "sQXuizHarAvk"
      },
      "execution_count": 108,
      "outputs": []
    },
    {
      "cell_type": "code",
      "source": [
        "#Remove the dollor sign and all the white spaces\n",
        "#Also remove the comma in order to convert string to int\n",
        "sales = pd.read_csv('../Sales_Data.csv', converters={'Revenue': lambda x: x.replace('$','').replace(' ','').replace(',','')})"
      ],
      "metadata": {
        "id": "EeeCVljZrSYc"
      },
      "execution_count": 109,
      "outputs": []
    },
    {
      "cell_type": "code",
      "source": [
        "#Convert the data type of revenue column to float\n",
        "sales['Revenue'] = pd.to_numeric(df['Revenue'])\n",
        "sales.dtypes"
      ],
      "metadata": {
        "colab": {
          "base_uri": "https://localhost:8080/",
          "height": 0
        },
        "id": "OiUeyAUkuy_F",
        "outputId": "22337555-320e-4ac3-aa6b-a978863a5ac1"
      },
      "execution_count": 110,
      "outputs": [
        {
          "output_type": "execute_result",
          "data": {
            "text/plain": [
              "Date             object\n",
              "Revenue         float64\n",
              "Product Line     object\n",
              "dtype: object"
            ]
          },
          "metadata": {},
          "execution_count": 110
        }
      ]
    },
    {
      "cell_type": "code",
      "source": [
        "sales.head()"
      ],
      "metadata": {
        "colab": {
          "base_uri": "https://localhost:8080/",
          "height": 206
        },
        "id": "qZXEejiarfEi",
        "outputId": "e43acd44-9bfe-4850-843e-fdd179685936"
      },
      "execution_count": 111,
      "outputs": [
        {
          "output_type": "execute_result",
          "data": {
            "text/html": [
              "<div>\n",
              "<style scoped>\n",
              "    .dataframe tbody tr th:only-of-type {\n",
              "        vertical-align: middle;\n",
              "    }\n",
              "\n",
              "    .dataframe tbody tr th {\n",
              "        vertical-align: top;\n",
              "    }\n",
              "\n",
              "    .dataframe thead th {\n",
              "        text-align: right;\n",
              "    }\n",
              "</style>\n",
              "<table border=\"1\" class=\"dataframe\">\n",
              "  <thead>\n",
              "    <tr style=\"text-align: right;\">\n",
              "      <th></th>\n",
              "      <th>Date</th>\n",
              "      <th>Revenue</th>\n",
              "      <th>Product Line</th>\n",
              "    </tr>\n",
              "  </thead>\n",
              "  <tbody>\n",
              "    <tr>\n",
              "      <th>0</th>\n",
              "      <td>1/1/2015</td>\n",
              "      <td>108632.40</td>\n",
              "      <td>Cars.go.com</td>\n",
              "    </tr>\n",
              "    <tr>\n",
              "      <th>1</th>\n",
              "      <td>1/1/2015</td>\n",
              "      <td>31494.02</td>\n",
              "      <td>Planes.go.com</td>\n",
              "    </tr>\n",
              "    <tr>\n",
              "      <th>2</th>\n",
              "      <td>1/1/2015</td>\n",
              "      <td>239376.48</td>\n",
              "      <td>Boats.go.com</td>\n",
              "    </tr>\n",
              "    <tr>\n",
              "      <th>3</th>\n",
              "      <td>1/2/2015</td>\n",
              "      <td>552064.80</td>\n",
              "      <td>Cars.go.com</td>\n",
              "    </tr>\n",
              "    <tr>\n",
              "      <th>4</th>\n",
              "      <td>1/2/2015</td>\n",
              "      <td>238344.12</td>\n",
              "      <td>Planes.go.com</td>\n",
              "    </tr>\n",
              "  </tbody>\n",
              "</table>\n",
              "</div>"
            ],
            "text/plain": [
              "       Date    Revenue   Product Line\n",
              "0  1/1/2015  108632.40    Cars.go.com\n",
              "1  1/1/2015   31494.02  Planes.go.com\n",
              "2  1/1/2015  239376.48   Boats.go.com\n",
              "3  1/2/2015  552064.80    Cars.go.com\n",
              "4  1/2/2015  238344.12  Planes.go.com"
            ]
          },
          "metadata": {},
          "execution_count": 111
        }
      ]
    },
    {
      "cell_type": "code",
      "source": [
        "sales_1q15 = sales.groupby('Product Line', as_index=False).agg('sum')\n",
        "sales_1q15 = pd.concat([sales_1q15,pd.DataFrame({'Product Line':'Total', 'Revenue':sales_1q15['Revenue'].sum()},index=[0])],ignore_index=True)\n",
        "date_1q15 = ['Q1 2015','Q1 2015','Q1 2015','Q1 2015']\n",
        "sales_1q15.insert(1, 'date', date_1q15)\n",
        "sales_1q15"
      ],
      "metadata": {
        "colab": {
          "base_uri": "https://localhost:8080/",
          "height": 175
        },
        "id": "1gTFx2pND87h",
        "outputId": "4a5501ca-4ea6-4b66-fe29-1463bb44494b"
      },
      "execution_count": 184,
      "outputs": [
        {
          "output_type": "execute_result",
          "data": {
            "text/html": [
              "<div>\n",
              "<style scoped>\n",
              "    .dataframe tbody tr th:only-of-type {\n",
              "        vertical-align: middle;\n",
              "    }\n",
              "\n",
              "    .dataframe tbody tr th {\n",
              "        vertical-align: top;\n",
              "    }\n",
              "\n",
              "    .dataframe thead th {\n",
              "        text-align: right;\n",
              "    }\n",
              "</style>\n",
              "<table border=\"1\" class=\"dataframe\">\n",
              "  <thead>\n",
              "    <tr style=\"text-align: right;\">\n",
              "      <th></th>\n",
              "      <th>Product Line</th>\n",
              "      <th>date</th>\n",
              "      <th>Revenue</th>\n",
              "    </tr>\n",
              "  </thead>\n",
              "  <tbody>\n",
              "    <tr>\n",
              "      <th>0</th>\n",
              "      <td>Boats.go.com</td>\n",
              "      <td>Q1 2015</td>\n",
              "      <td>4736347.68</td>\n",
              "    </tr>\n",
              "    <tr>\n",
              "      <th>1</th>\n",
              "      <td>Cars.go.com</td>\n",
              "      <td>Q1 2015</td>\n",
              "      <td>16757524.80</td>\n",
              "    </tr>\n",
              "    <tr>\n",
              "      <th>2</th>\n",
              "      <td>Planes.go.com</td>\n",
              "      <td>Q1 2015</td>\n",
              "      <td>32529742.79</td>\n",
              "    </tr>\n",
              "    <tr>\n",
              "      <th>3</th>\n",
              "      <td>Total</td>\n",
              "      <td>Q1 2015</td>\n",
              "      <td>54023615.27</td>\n",
              "    </tr>\n",
              "  </tbody>\n",
              "</table>\n",
              "</div>"
            ],
            "text/plain": [
              "    Product Line     date      Revenue\n",
              "0   Boats.go.com  Q1 2015   4736347.68\n",
              "1    Cars.go.com  Q1 2015  16757524.80\n",
              "2  Planes.go.com  Q1 2015  32529742.79\n",
              "3          Total  Q1 2015  54023615.27"
            ]
          },
          "metadata": {},
          "execution_count": 184
        }
      ]
    },
    {
      "cell_type": "markdown",
      "source": [
        "### part of revenue data"
      ],
      "metadata": {
        "id": "OzopJ4cJlKdP"
      }
    },
    {
      "cell_type": "code",
      "source": [
        "#cleaning\n",
        "historical = pd.read_csv('../Historical_Data.csv', converters={1: lambda x: x.replace('$','').replace(' ','').replace(',',''),\n",
        "                                                               2: lambda x: x.replace('$','').replace(' ','').replace(',',''),\n",
        "                                                               3: lambda x: x.replace('$','').replace(' ','').replace(',',''),\n",
        "                                                               4: lambda x: x.replace('$','').replace(' ','').replace(',',''),\n",
        "                                                               5: lambda x: x.replace('$','').replace(' ','').replace(',',''),})"
      ],
      "metadata": {
        "id": "fUgvFqbWcC9J"
      },
      "execution_count": 112,
      "outputs": []
    },
    {
      "cell_type": "code",
      "source": [
        "#rearrange, fix column name\n",
        "revenue = historical[0:5]\n",
        "revenue = revenue.rename(columns={'Unnamed: 0':'Product Line'})\n",
        "revenue = revenue.drop(0)\n",
        "revenue = revenue.melt(id_vars=['Product Line'], value_vars=['Q4 2013', 'Q1 2014', 'Q2 2014', 'Q3 2014', 'Q4 2014'])\n",
        "revenue = revenue.rename(columns={'variable':'date', 'value':'Revenue'})\n",
        "revenue.head()"
      ],
      "metadata": {
        "colab": {
          "base_uri": "https://localhost:8080/",
          "height": 206
        },
        "id": "HEjfioyAcLU6",
        "outputId": "81323d49-1382-4854-99d2-4f05ee786769"
      },
      "execution_count": 113,
      "outputs": [
        {
          "output_type": "execute_result",
          "data": {
            "text/html": [
              "<div>\n",
              "<style scoped>\n",
              "    .dataframe tbody tr th:only-of-type {\n",
              "        vertical-align: middle;\n",
              "    }\n",
              "\n",
              "    .dataframe tbody tr th {\n",
              "        vertical-align: top;\n",
              "    }\n",
              "\n",
              "    .dataframe thead th {\n",
              "        text-align: right;\n",
              "    }\n",
              "</style>\n",
              "<table border=\"1\" class=\"dataframe\">\n",
              "  <thead>\n",
              "    <tr style=\"text-align: right;\">\n",
              "      <th></th>\n",
              "      <th>Product Line</th>\n",
              "      <th>date</th>\n",
              "      <th>Revenue</th>\n",
              "    </tr>\n",
              "  </thead>\n",
              "  <tbody>\n",
              "    <tr>\n",
              "      <th>0</th>\n",
              "      <td>Cars.go.com</td>\n",
              "      <td>Q4 2013</td>\n",
              "      <td>6085063.00</td>\n",
              "    </tr>\n",
              "    <tr>\n",
              "      <th>1</th>\n",
              "      <td>Planes.go.com</td>\n",
              "      <td>Q4 2013</td>\n",
              "      <td>32339403.00</td>\n",
              "    </tr>\n",
              "    <tr>\n",
              "      <th>2</th>\n",
              "      <td>Boats.go.com</td>\n",
              "      <td>Q4 2013</td>\n",
              "      <td>4329578.00</td>\n",
              "    </tr>\n",
              "    <tr>\n",
              "      <th>3</th>\n",
              "      <td>Total</td>\n",
              "      <td>Q4 2013</td>\n",
              "      <td>42754044.00</td>\n",
              "    </tr>\n",
              "    <tr>\n",
              "      <th>4</th>\n",
              "      <td>Cars.go.com</td>\n",
              "      <td>Q1 2014</td>\n",
              "      <td>5663582.00</td>\n",
              "    </tr>\n",
              "  </tbody>\n",
              "</table>\n",
              "</div>"
            ],
            "text/plain": [
              "    Product Line     date      Revenue\n",
              "0    Cars.go.com  Q4 2013   6085063.00\n",
              "1  Planes.go.com  Q4 2013  32339403.00\n",
              "2   Boats.go.com  Q4 2013   4329578.00\n",
              "3          Total  Q4 2013  42754044.00\n",
              "4    Cars.go.com  Q1 2014   5663582.00"
            ]
          },
          "metadata": {},
          "execution_count": 113
        }
      ]
    },
    {
      "cell_type": "code",
      "source": [
        "revenue['Revenue'] = pd.to_numeric(revenue['Revenue'])\n",
        "revenue.dtypes"
      ],
      "metadata": {
        "colab": {
          "base_uri": "https://localhost:8080/",
          "height": 0
        },
        "id": "c2DenjFB25z5",
        "outputId": "291d4e3b-b30c-4488-fe10-308c0d06db31"
      },
      "execution_count": 114,
      "outputs": [
        {
          "output_type": "execute_result",
          "data": {
            "text/plain": [
              "Product Line     object\n",
              "date             object\n",
              "Revenue         float64\n",
              "dtype: object"
            ]
          },
          "metadata": {},
          "execution_count": 114
        }
      ]
    },
    {
      "cell_type": "markdown",
      "source": [
        "### part of profit data"
      ],
      "metadata": {
        "id": "aZH8XHU0nMHn"
      }
    },
    {
      "cell_type": "code",
      "source": [
        "profit = historical[8:12]\n",
        "profit = profit.rename(columns={'Unnamed: 0':'Product Line'})\n",
        "profit = profit.melt(id_vars=['Product Line'], value_vars=['Q4 2013', 'Q1 2014', 'Q2 2014', 'Q3 2014', 'Q4 2014'])\n",
        "profit = profit.rename(columns={'variable':'date', 'value':'Profit'})\n",
        "profit.head()"
      ],
      "metadata": {
        "colab": {
          "base_uri": "https://localhost:8080/",
          "height": 206
        },
        "id": "RvfEkjovnPRR",
        "outputId": "e256614b-903d-4734-a676-40ac665fba19"
      },
      "execution_count": 115,
      "outputs": [
        {
          "output_type": "execute_result",
          "data": {
            "text/html": [
              "<div>\n",
              "<style scoped>\n",
              "    .dataframe tbody tr th:only-of-type {\n",
              "        vertical-align: middle;\n",
              "    }\n",
              "\n",
              "    .dataframe tbody tr th {\n",
              "        vertical-align: top;\n",
              "    }\n",
              "\n",
              "    .dataframe thead th {\n",
              "        text-align: right;\n",
              "    }\n",
              "</style>\n",
              "<table border=\"1\" class=\"dataframe\">\n",
              "  <thead>\n",
              "    <tr style=\"text-align: right;\">\n",
              "      <th></th>\n",
              "      <th>Product Line</th>\n",
              "      <th>date</th>\n",
              "      <th>Profit</th>\n",
              "    </tr>\n",
              "  </thead>\n",
              "  <tbody>\n",
              "    <tr>\n",
              "      <th>0</th>\n",
              "      <td>Cars.go.com</td>\n",
              "      <td>Q4 2013</td>\n",
              "      <td>1217012.60</td>\n",
              "    </tr>\n",
              "    <tr>\n",
              "      <th>1</th>\n",
              "      <td>Planes.go.com</td>\n",
              "      <td>Q4 2013</td>\n",
              "      <td>161697.02</td>\n",
              "    </tr>\n",
              "    <tr>\n",
              "      <th>2</th>\n",
              "      <td>Boats.go.com</td>\n",
              "      <td>Q4 2013</td>\n",
              "      <td>86591.56</td>\n",
              "    </tr>\n",
              "    <tr>\n",
              "      <th>3</th>\n",
              "      <td>Total</td>\n",
              "      <td>Q4 2013</td>\n",
              "      <td>1465301.18</td>\n",
              "    </tr>\n",
              "    <tr>\n",
              "      <th>4</th>\n",
              "      <td>Cars.go.com</td>\n",
              "      <td>Q1 2014</td>\n",
              "      <td>1132716.40</td>\n",
              "    </tr>\n",
              "  </tbody>\n",
              "</table>\n",
              "</div>"
            ],
            "text/plain": [
              "    Product Line     date      Profit\n",
              "0    Cars.go.com  Q4 2013  1217012.60\n",
              "1  Planes.go.com  Q4 2013   161697.02\n",
              "2   Boats.go.com  Q4 2013    86591.56\n",
              "3          Total  Q4 2013  1465301.18\n",
              "4    Cars.go.com  Q1 2014  1132716.40"
            ]
          },
          "metadata": {},
          "execution_count": 115
        }
      ]
    },
    {
      "cell_type": "code",
      "source": [
        "profit['Profit'] = pd.to_numeric(profit['Profit'])\n",
        "profit.dtypes"
      ],
      "metadata": {
        "colab": {
          "base_uri": "https://localhost:8080/",
          "height": 0
        },
        "id": "lDtETcci3FzN",
        "outputId": "87fbffe5-bf3f-4ff1-ac1e-b542e2ca6c0d"
      },
      "execution_count": 116,
      "outputs": [
        {
          "output_type": "execute_result",
          "data": {
            "text/plain": [
              "Product Line     object\n",
              "date             object\n",
              "Profit          float64\n",
              "dtype: object"
            ]
          },
          "metadata": {},
          "execution_count": 116
        }
      ]
    },
    {
      "cell_type": "markdown",
      "source": [
        "### merge historical data"
      ],
      "metadata": {
        "id": "wIVmdZyRpfC_"
      }
    },
    {
      "cell_type": "code",
      "source": [
        "historical_new = revenue.merge(profit, left_on=['Product Line','date'], right_on=['Product Line','date'], how='inner')\n",
        "historical_new.head()"
      ],
      "metadata": {
        "colab": {
          "base_uri": "https://localhost:8080/",
          "height": 206
        },
        "id": "c-1IBuy5phuT",
        "outputId": "3b11dc89-e58f-4b64-b89c-ed0e6962cfb3"
      },
      "execution_count": 117,
      "outputs": [
        {
          "output_type": "execute_result",
          "data": {
            "text/html": [
              "<div>\n",
              "<style scoped>\n",
              "    .dataframe tbody tr th:only-of-type {\n",
              "        vertical-align: middle;\n",
              "    }\n",
              "\n",
              "    .dataframe tbody tr th {\n",
              "        vertical-align: top;\n",
              "    }\n",
              "\n",
              "    .dataframe thead th {\n",
              "        text-align: right;\n",
              "    }\n",
              "</style>\n",
              "<table border=\"1\" class=\"dataframe\">\n",
              "  <thead>\n",
              "    <tr style=\"text-align: right;\">\n",
              "      <th></th>\n",
              "      <th>Product Line</th>\n",
              "      <th>date</th>\n",
              "      <th>Revenue</th>\n",
              "      <th>Profit</th>\n",
              "    </tr>\n",
              "  </thead>\n",
              "  <tbody>\n",
              "    <tr>\n",
              "      <th>0</th>\n",
              "      <td>Cars.go.com</td>\n",
              "      <td>Q4 2013</td>\n",
              "      <td>6085063.0</td>\n",
              "      <td>1217012.60</td>\n",
              "    </tr>\n",
              "    <tr>\n",
              "      <th>1</th>\n",
              "      <td>Planes.go.com</td>\n",
              "      <td>Q4 2013</td>\n",
              "      <td>32339403.0</td>\n",
              "      <td>161697.02</td>\n",
              "    </tr>\n",
              "    <tr>\n",
              "      <th>2</th>\n",
              "      <td>Boats.go.com</td>\n",
              "      <td>Q4 2013</td>\n",
              "      <td>4329578.0</td>\n",
              "      <td>86591.56</td>\n",
              "    </tr>\n",
              "    <tr>\n",
              "      <th>3</th>\n",
              "      <td>Total</td>\n",
              "      <td>Q4 2013</td>\n",
              "      <td>42754044.0</td>\n",
              "      <td>1465301.18</td>\n",
              "    </tr>\n",
              "    <tr>\n",
              "      <th>4</th>\n",
              "      <td>Cars.go.com</td>\n",
              "      <td>Q1 2014</td>\n",
              "      <td>5663582.0</td>\n",
              "      <td>1132716.40</td>\n",
              "    </tr>\n",
              "  </tbody>\n",
              "</table>\n",
              "</div>"
            ],
            "text/plain": [
              "    Product Line     date     Revenue      Profit\n",
              "0    Cars.go.com  Q4 2013   6085063.0  1217012.60\n",
              "1  Planes.go.com  Q4 2013  32339403.0   161697.02\n",
              "2   Boats.go.com  Q4 2013   4329578.0    86591.56\n",
              "3          Total  Q4 2013  42754044.0  1465301.18\n",
              "4    Cars.go.com  Q1 2014   5663582.0  1132716.40"
            ]
          },
          "metadata": {},
          "execution_count": 117
        }
      ]
    },
    {
      "cell_type": "markdown",
      "source": [
        "## Seaborn Line chart(to see if there exists turning point or not)"
      ],
      "metadata": {
        "id": "PJVEMI99oclO"
      }
    },
    {
      "cell_type": "code",
      "source": [
        "import matplotlib.pyplot as plt\n",
        "import seaborn as sns\n",
        "import warnings\n",
        "warnings.filterwarnings('ignore')"
      ],
      "metadata": {
        "id": "jTvNdw8Po12x"
      },
      "execution_count": 118,
      "outputs": []
    },
    {
      "cell_type": "markdown",
      "source": [
        "### Revenue&Profit Line chart(Carsgo)"
      ],
      "metadata": {
        "id": "dMctx10OrkRL"
      }
    },
    {
      "cell_type": "code",
      "source": [
        "#filter the carsgo data\n",
        "carsgo = historical_new[historical_new['Product Line']=='Cars.go.com']\n",
        "carsgo"
      ],
      "metadata": {
        "colab": {
          "base_uri": "https://localhost:8080/",
          "height": 206
        },
        "id": "kgHtVjzlqYpc",
        "outputId": "be7938d6-05d3-4010-a214-52f8c5165c3f"
      },
      "execution_count": 119,
      "outputs": [
        {
          "output_type": "execute_result",
          "data": {
            "text/html": [
              "<div>\n",
              "<style scoped>\n",
              "    .dataframe tbody tr th:only-of-type {\n",
              "        vertical-align: middle;\n",
              "    }\n",
              "\n",
              "    .dataframe tbody tr th {\n",
              "        vertical-align: top;\n",
              "    }\n",
              "\n",
              "    .dataframe thead th {\n",
              "        text-align: right;\n",
              "    }\n",
              "</style>\n",
              "<table border=\"1\" class=\"dataframe\">\n",
              "  <thead>\n",
              "    <tr style=\"text-align: right;\">\n",
              "      <th></th>\n",
              "      <th>Product Line</th>\n",
              "      <th>date</th>\n",
              "      <th>Revenue</th>\n",
              "      <th>Profit</th>\n",
              "    </tr>\n",
              "  </thead>\n",
              "  <tbody>\n",
              "    <tr>\n",
              "      <th>0</th>\n",
              "      <td>Cars.go.com</td>\n",
              "      <td>Q4 2013</td>\n",
              "      <td>6085063.0</td>\n",
              "      <td>1217012.6</td>\n",
              "    </tr>\n",
              "    <tr>\n",
              "      <th>4</th>\n",
              "      <td>Cars.go.com</td>\n",
              "      <td>Q1 2014</td>\n",
              "      <td>5663582.0</td>\n",
              "      <td>1132716.4</td>\n",
              "    </tr>\n",
              "    <tr>\n",
              "      <th>8</th>\n",
              "      <td>Cars.go.com</td>\n",
              "      <td>Q2 2014</td>\n",
              "      <td>5701994.0</td>\n",
              "      <td>1140398.8</td>\n",
              "    </tr>\n",
              "    <tr>\n",
              "      <th>12</th>\n",
              "      <td>Cars.go.com</td>\n",
              "      <td>Q3 2014</td>\n",
              "      <td>5691910.0</td>\n",
              "      <td>1138382.0</td>\n",
              "    </tr>\n",
              "    <tr>\n",
              "      <th>16</th>\n",
              "      <td>Cars.go.com</td>\n",
              "      <td>Q4 2014</td>\n",
              "      <td>5906352.0</td>\n",
              "      <td>1181270.4</td>\n",
              "    </tr>\n",
              "  </tbody>\n",
              "</table>\n",
              "</div>"
            ],
            "text/plain": [
              "   Product Line     date    Revenue     Profit\n",
              "0   Cars.go.com  Q4 2013  6085063.0  1217012.6\n",
              "4   Cars.go.com  Q1 2014  5663582.0  1132716.4\n",
              "8   Cars.go.com  Q2 2014  5701994.0  1140398.8\n",
              "12  Cars.go.com  Q3 2014  5691910.0  1138382.0\n",
              "16  Cars.go.com  Q4 2014  5906352.0  1181270.4"
            ]
          },
          "metadata": {},
          "execution_count": 119
        }
      ]
    },
    {
      "cell_type": "code",
      "source": [
        "fig, ax = plt.subplots(figsize=(20,5),ncols=3)\n",
        "sns.lineplot(carsgo.date, carsgo.Revenue, label='Revenue', ax=ax[0]).set(title='Cars(Revenue)', ylabel=None)\n",
        "sns.lineplot(carsgo.date, carsgo.Profit, label='Profit', color='orange', ax=ax[1]).set(title='Cars(Profit)', ylabel=None)\n",
        "sns.lineplot(carsgo.date, carsgo.Revenue, label='Revenue', ax=ax[2]).set(title='Cars(Revenue&Profit)', ylabel=None)\n",
        "sns.lineplot(carsgo.date, carsgo.Profit, label='Profit', color='orange', ax=ax[2]).set(ylabel=None)"
      ],
      "metadata": {
        "colab": {
          "base_uri": "https://localhost:8080/",
          "height": 367
        },
        "id": "wzUzmYK0rPGs",
        "outputId": "9e0a20ae-400b-4fda-afa2-093ddb95579c"
      },
      "execution_count": 148,
      "outputs": [
        {
          "output_type": "execute_result",
          "data": {
            "text/plain": [
              "[Text(0, 0.5, '')]"
            ]
          },
          "metadata": {},
          "execution_count": 148
        },
        {
          "output_type": "display_data",
          "data": {
            "image/png": "[encoded data removed]",
            "text/plain": [
              "<Figure size 1440x360 with 3 Axes>"
            ]
          },
          "metadata": {}
        }
      ]
    },
    {
      "cell_type": "markdown",
      "source": [
        "### Revenue&Profit Line chart(Planesgo) "
      ],
      "metadata": {
        "id": "TuneyeYTwwub"
      }
    },
    {
      "cell_type": "code",
      "source": [
        "#filter the carsgo data\n",
        "planesgo = historical_new[historical_new['Product Line']=='Planes.go.com']\n",
        "planesgo"
      ],
      "metadata": {
        "colab": {
          "base_uri": "https://localhost:8080/",
          "height": 206
        },
        "id": "1ImIZYrDxL91",
        "outputId": "9fd05586-4d19-4ab5-8cd9-06e4dbfb6087"
      },
      "execution_count": 121,
      "outputs": [
        {
          "output_type": "execute_result",
          "data": {
            "text/html": [
              "<div>\n",
              "<style scoped>\n",
              "    .dataframe tbody tr th:only-of-type {\n",
              "        vertical-align: middle;\n",
              "    }\n",
              "\n",
              "    .dataframe tbody tr th {\n",
              "        vertical-align: top;\n",
              "    }\n",
              "\n",
              "    .dataframe thead th {\n",
              "        text-align: right;\n",
              "    }\n",
              "</style>\n",
              "<table border=\"1\" class=\"dataframe\">\n",
              "  <thead>\n",
              "    <tr style=\"text-align: right;\">\n",
              "      <th></th>\n",
              "      <th>Product Line</th>\n",
              "      <th>date</th>\n",
              "      <th>Revenue</th>\n",
              "      <th>Profit</th>\n",
              "    </tr>\n",
              "  </thead>\n",
              "  <tbody>\n",
              "    <tr>\n",
              "      <th>1</th>\n",
              "      <td>Planes.go.com</td>\n",
              "      <td>Q4 2013</td>\n",
              "      <td>32339403.0</td>\n",
              "      <td>161697.02</td>\n",
              "    </tr>\n",
              "    <tr>\n",
              "      <th>5</th>\n",
              "      <td>Planes.go.com</td>\n",
              "      <td>Q1 2014</td>\n",
              "      <td>34861524.0</td>\n",
              "      <td>174307.62</td>\n",
              "    </tr>\n",
              "    <tr>\n",
              "      <th>9</th>\n",
              "      <td>Planes.go.com</td>\n",
              "      <td>Q2 2014</td>\n",
              "      <td>36039564.0</td>\n",
              "      <td>180197.82</td>\n",
              "    </tr>\n",
              "    <tr>\n",
              "      <th>13</th>\n",
              "      <td>Planes.go.com</td>\n",
              "      <td>Q3 2014</td>\n",
              "      <td>34422242.0</td>\n",
              "      <td>172111.21</td>\n",
              "    </tr>\n",
              "    <tr>\n",
              "      <th>17</th>\n",
              "      <td>Planes.go.com</td>\n",
              "      <td>Q4 2014</td>\n",
              "      <td>45337642.0</td>\n",
              "      <td>226688.21</td>\n",
              "    </tr>\n",
              "  </tbody>\n",
              "</table>\n",
              "</div>"
            ],
            "text/plain": [
              "     Product Line     date     Revenue     Profit\n",
              "1   Planes.go.com  Q4 2013  32339403.0  161697.02\n",
              "5   Planes.go.com  Q1 2014  34861524.0  174307.62\n",
              "9   Planes.go.com  Q2 2014  36039564.0  180197.82\n",
              "13  Planes.go.com  Q3 2014  34422242.0  172111.21\n",
              "17  Planes.go.com  Q4 2014  45337642.0  226688.21"
            ]
          },
          "metadata": {},
          "execution_count": 121
        }
      ]
    },
    {
      "cell_type": "code",
      "source": [
        "fig, ax = plt.subplots(figsize=(20,5),ncols=3)\n",
        "sns.lineplot(planesgo.date, planesgo.Revenue, label='Revenue', ax=ax[0]).set(title='Planes(Revenue)', ylabel=None)\n",
        "sns.lineplot(planesgo.date, planesgo.Profit, label='Profit', color='orange', ax=ax[1]).set(title='Planes(Profit)',ylabel=None)\n",
        "sns.lineplot(planesgo.date, planesgo.Revenue, label='Revenue', ax=ax[2]).set(title='Planes(Revenue&Profit)', ylabel=None)\n",
        "sns.lineplot(planesgo.date, planesgo.Profit, label='Profit', color='orange', ax=ax[2]).set(ylabel=None)"
      ],
      "metadata": {
        "colab": {
          "base_uri": "https://localhost:8080/",
          "height": 367
        },
        "id": "8oVxuX6FxSxk",
        "outputId": "4ba1a309-e63a-454c-ee36-267dbf351d0e"
      },
      "execution_count": 149,
      "outputs": [
        {
          "output_type": "execute_result",
          "data": {
            "text/plain": [
              "[Text(0, 0.5, '')]"
            ]
          },
          "metadata": {},
          "execution_count": 149
        },
        {
          "output_type": "display_data",
          "data": {
            "image/png": "[encoded data removed]",
            "text/plain": [
              "<Figure size 1440x360 with 3 Axes>"
            ]
          },
          "metadata": {}
        }
      ]
    },
    {
      "cell_type": "markdown",
      "source": [
        "### Revenue&Profit Line chart(Boatsgo) "
      ],
      "metadata": {
        "id": "rnqL1azExh8Z"
      }
    },
    {
      "cell_type": "code",
      "source": [
        "#filter the carsgo data\n",
        "boatsgo = historical_new[historical_new['Product Line']=='Boats.go.com']\n",
        "boatsgo"
      ],
      "metadata": {
        "colab": {
          "base_uri": "https://localhost:8080/",
          "height": 206
        },
        "id": "leosbiEdxq1V",
        "outputId": "60f3e3c8-4788-4e90-8620-bdcb13f7bdc8"
      },
      "execution_count": 123,
      "outputs": [
        {
          "output_type": "execute_result",
          "data": {
            "text/html": [
              "<div>\n",
              "<style scoped>\n",
              "    .dataframe tbody tr th:only-of-type {\n",
              "        vertical-align: middle;\n",
              "    }\n",
              "\n",
              "    .dataframe tbody tr th {\n",
              "        vertical-align: top;\n",
              "    }\n",
              "\n",
              "    .dataframe thead th {\n",
              "        text-align: right;\n",
              "    }\n",
              "</style>\n",
              "<table border=\"1\" class=\"dataframe\">\n",
              "  <thead>\n",
              "    <tr style=\"text-align: right;\">\n",
              "      <th></th>\n",
              "      <th>Product Line</th>\n",
              "      <th>date</th>\n",
              "      <th>Revenue</th>\n",
              "      <th>Profit</th>\n",
              "    </tr>\n",
              "  </thead>\n",
              "  <tbody>\n",
              "    <tr>\n",
              "      <th>2</th>\n",
              "      <td>Boats.go.com</td>\n",
              "      <td>Q4 2013</td>\n",
              "      <td>4329578.0</td>\n",
              "      <td>86591.56</td>\n",
              "    </tr>\n",
              "    <tr>\n",
              "      <th>6</th>\n",
              "      <td>Boats.go.com</td>\n",
              "      <td>Q1 2014</td>\n",
              "      <td>4418088.0</td>\n",
              "      <td>88361.76</td>\n",
              "    </tr>\n",
              "    <tr>\n",
              "      <th>10</th>\n",
              "      <td>Boats.go.com</td>\n",
              "      <td>Q2 2014</td>\n",
              "      <td>4657184.0</td>\n",
              "      <td>93143.68</td>\n",
              "    </tr>\n",
              "    <tr>\n",
              "      <th>14</th>\n",
              "      <td>Boats.go.com</td>\n",
              "      <td>Q3 2014</td>\n",
              "      <td>4597765.0</td>\n",
              "      <td>91955.30</td>\n",
              "    </tr>\n",
              "    <tr>\n",
              "      <th>18</th>\n",
              "      <td>Boats.go.com</td>\n",
              "      <td>Q4 2014</td>\n",
              "      <td>5437214.0</td>\n",
              "      <td>108744.28</td>\n",
              "    </tr>\n",
              "  </tbody>\n",
              "</table>\n",
              "</div>"
            ],
            "text/plain": [
              "    Product Line     date    Revenue     Profit\n",
              "2   Boats.go.com  Q4 2013  4329578.0   86591.56\n",
              "6   Boats.go.com  Q1 2014  4418088.0   88361.76\n",
              "10  Boats.go.com  Q2 2014  4657184.0   93143.68\n",
              "14  Boats.go.com  Q3 2014  4597765.0   91955.30\n",
              "18  Boats.go.com  Q4 2014  5437214.0  108744.28"
            ]
          },
          "metadata": {},
          "execution_count": 123
        }
      ]
    },
    {
      "cell_type": "code",
      "source": [
        "fig, ax = plt.subplots(figsize=(20,5), ncols=3)\n",
        "sns.lineplot(boatsgo.date, boatsgo.Revenue, label='Revenue', ax=ax[0]).set(title='Boats(Revenue)', ylabel=None)\n",
        "sns.lineplot(boatsgo.date, boatsgo.Profit, label='Profit', color='orange', ax=ax[1]).set(title='Boats(Profit)', ylabel=None)\n",
        "sns.lineplot(boatsgo.date, boatsgo.Revenue, label='Revenue', ax=ax[2]).set(title='Boats.go.com', ylabel=None)\n",
        "sns.lineplot(boatsgo.date, boatsgo.Profit, label='Profit', color='orange', ax=ax[2]).set(ylabel=None)"
      ],
      "metadata": {
        "colab": {
          "base_uri": "https://localhost:8080/",
          "height": 367
        },
        "id": "tsF-5cOOxyNm",
        "outputId": "b7701fe3-143d-46a0-ef45-580c39223379"
      },
      "execution_count": 153,
      "outputs": [
        {
          "output_type": "execute_result",
          "data": {
            "text/plain": [
              "[Text(0, 0.5, '')]"
            ]
          },
          "metadata": {},
          "execution_count": 153
        },
        {
          "output_type": "display_data",
          "data": {
            "image/png": "[encoded data removed]",
            "text/plain": [
              "<Figure size 1440x360 with 3 Axes>"
            ]
          },
          "metadata": {}
        }
      ]
    },
    {
      "cell_type": "markdown",
      "source": [
        "### Conclusion"
      ],
      "metadata": {
        "id": "LlI_3uW0y2ve"
      }
    },
    {
      "cell_type": "markdown",
      "source": [
        "From the charts above, we can clearly see that the rate of change between each quarter is almost the same in these three product lines. So, I figure out two ways to predict the 1q15 profit:<br>\n",
        "\n",
        "\n",
        "1.   Based on the 1q15 revenue data, calculate the rate of change from Q4 2014 to Q1 2015 in these three product lines, then use this rate of change to calculate the profit of Q1 2015\n",
        "2.   List item\n",
        "\n"
      ],
      "metadata": {
        "id": "AXZ5nOWyy6Ii"
      }
    },
    {
      "cell_type": "markdown",
      "source": [
        "## Calculate rate of change"
      ],
      "metadata": {
        "id": "_44dmKae0lCK"
      }
    },
    {
      "cell_type": "code",
      "source": [
        "df_roc = pd.concat([revenue,sales_1q15], ignore_index=True)\n",
        "df_roc"
      ],
      "metadata": {
        "colab": {
          "base_uri": "https://localhost:8080/",
          "height": 801
        },
        "id": "O8V4w45zGhox",
        "outputId": "4336e9f3-d21f-47cb-a915-416bcf0c88b8"
      },
      "execution_count": 185,
      "outputs": [
        {
          "output_type": "execute_result",
          "data": {
            "text/html": [
              "<div>\n",
              "<style scoped>\n",
              "    .dataframe tbody tr th:only-of-type {\n",
              "        vertical-align: middle;\n",
              "    }\n",
              "\n",
              "    .dataframe tbody tr th {\n",
              "        vertical-align: top;\n",
              "    }\n",
              "\n",
              "    .dataframe thead th {\n",
              "        text-align: right;\n",
              "    }\n",
              "</style>\n",
              "<table border=\"1\" class=\"dataframe\">\n",
              "  <thead>\n",
              "    <tr style=\"text-align: right;\">\n",
              "      <th></th>\n",
              "      <th>Product Line</th>\n",
              "      <th>date</th>\n",
              "      <th>Revenue</th>\n",
              "    </tr>\n",
              "  </thead>\n",
              "  <tbody>\n",
              "    <tr>\n",
              "      <th>0</th>\n",
              "      <td>Cars.go.com</td>\n",
              "      <td>Q4 2013</td>\n",
              "      <td>6085063.00</td>\n",
              "    </tr>\n",
              "    <tr>\n",
              "      <th>1</th>\n",
              "      <td>Planes.go.com</td>\n",
              "      <td>Q4 2013</td>\n",
              "      <td>32339403.00</td>\n",
              "    </tr>\n",
              "    <tr>\n",
              "      <th>2</th>\n",
              "      <td>Boats.go.com</td>\n",
              "      <td>Q4 2013</td>\n",
              "      <td>4329578.00</td>\n",
              "    </tr>\n",
              "    <tr>\n",
              "      <th>3</th>\n",
              "      <td>Total</td>\n",
              "      <td>Q4 2013</td>\n",
              "      <td>42754044.00</td>\n",
              "    </tr>\n",
              "    <tr>\n",
              "      <th>4</th>\n",
              "      <td>Cars.go.com</td>\n",
              "      <td>Q1 2014</td>\n",
              "      <td>5663582.00</td>\n",
              "    </tr>\n",
              "    <tr>\n",
              "      <th>5</th>\n",
              "      <td>Planes.go.com</td>\n",
              "      <td>Q1 2014</td>\n",
              "      <td>34861524.00</td>\n",
              "    </tr>\n",
              "    <tr>\n",
              "      <th>6</th>\n",
              "      <td>Boats.go.com</td>\n",
              "      <td>Q1 2014</td>\n",
              "      <td>4418088.00</td>\n",
              "    </tr>\n",
              "    <tr>\n",
              "      <th>7</th>\n",
              "      <td>Total</td>\n",
              "      <td>Q1 2014</td>\n",
              "      <td>44943194.00</td>\n",
              "    </tr>\n",
              "    <tr>\n",
              "      <th>8</th>\n",
              "      <td>Cars.go.com</td>\n",
              "      <td>Q2 2014</td>\n",
              "      <td>5701994.00</td>\n",
              "    </tr>\n",
              "    <tr>\n",
              "      <th>9</th>\n",
              "      <td>Planes.go.com</td>\n",
              "      <td>Q2 2014</td>\n",
              "      <td>36039564.00</td>\n",
              "    </tr>\n",
              "    <tr>\n",
              "      <th>10</th>\n",
              "      <td>Boats.go.com</td>\n",
              "      <td>Q2 2014</td>\n",
              "      <td>4657184.00</td>\n",
              "    </tr>\n",
              "    <tr>\n",
              "      <th>11</th>\n",
              "      <td>Total</td>\n",
              "      <td>Q2 2014</td>\n",
              "      <td>46398742.00</td>\n",
              "    </tr>\n",
              "    <tr>\n",
              "      <th>12</th>\n",
              "      <td>Cars.go.com</td>\n",
              "      <td>Q3 2014</td>\n",
              "      <td>5691910.00</td>\n",
              "    </tr>\n",
              "    <tr>\n",
              "      <th>13</th>\n",
              "      <td>Planes.go.com</td>\n",
              "      <td>Q3 2014</td>\n",
              "      <td>34422242.00</td>\n",
              "    </tr>\n",
              "    <tr>\n",
              "      <th>14</th>\n",
              "      <td>Boats.go.com</td>\n",
              "      <td>Q3 2014</td>\n",
              "      <td>4597765.00</td>\n",
              "    </tr>\n",
              "    <tr>\n",
              "      <th>15</th>\n",
              "      <td>Total</td>\n",
              "      <td>Q3 2014</td>\n",
              "      <td>44711917.00</td>\n",
              "    </tr>\n",
              "    <tr>\n",
              "      <th>16</th>\n",
              "      <td>Cars.go.com</td>\n",
              "      <td>Q4 2014</td>\n",
              "      <td>5906352.00</td>\n",
              "    </tr>\n",
              "    <tr>\n",
              "      <th>17</th>\n",
              "      <td>Planes.go.com</td>\n",
              "      <td>Q4 2014</td>\n",
              "      <td>45337642.00</td>\n",
              "    </tr>\n",
              "    <tr>\n",
              "      <th>18</th>\n",
              "      <td>Boats.go.com</td>\n",
              "      <td>Q4 2014</td>\n",
              "      <td>5437214.00</td>\n",
              "    </tr>\n",
              "    <tr>\n",
              "      <th>19</th>\n",
              "      <td>Total</td>\n",
              "      <td>Q4 2014</td>\n",
              "      <td>56681208.00</td>\n",
              "    </tr>\n",
              "    <tr>\n",
              "      <th>20</th>\n",
              "      <td>Boats.go.com</td>\n",
              "      <td>Q1 2015</td>\n",
              "      <td>4736347.68</td>\n",
              "    </tr>\n",
              "    <tr>\n",
              "      <th>21</th>\n",
              "      <td>Cars.go.com</td>\n",
              "      <td>Q1 2015</td>\n",
              "      <td>16757524.80</td>\n",
              "    </tr>\n",
              "    <tr>\n",
              "      <th>22</th>\n",
              "      <td>Planes.go.com</td>\n",
              "      <td>Q1 2015</td>\n",
              "      <td>32529742.79</td>\n",
              "    </tr>\n",
              "    <tr>\n",
              "      <th>23</th>\n",
              "      <td>Total</td>\n",
              "      <td>Q1 2015</td>\n",
              "      <td>54023615.27</td>\n",
              "    </tr>\n",
              "  </tbody>\n",
              "</table>\n",
              "</div>"
            ],
            "text/plain": [
              "     Product Line     date      Revenue\n",
              "0     Cars.go.com  Q4 2013   6085063.00\n",
              "1   Planes.go.com  Q4 2013  32339403.00\n",
              "2    Boats.go.com  Q4 2013   4329578.00\n",
              "3           Total  Q4 2013  42754044.00\n",
              "4     Cars.go.com  Q1 2014   5663582.00\n",
              "5   Planes.go.com  Q1 2014  34861524.00\n",
              "6    Boats.go.com  Q1 2014   4418088.00\n",
              "7           Total  Q1 2014  44943194.00\n",
              "8     Cars.go.com  Q2 2014   5701994.00\n",
              "9   Planes.go.com  Q2 2014  36039564.00\n",
              "10   Boats.go.com  Q2 2014   4657184.00\n",
              "11          Total  Q2 2014  46398742.00\n",
              "12    Cars.go.com  Q3 2014   5691910.00\n",
              "13  Planes.go.com  Q3 2014  34422242.00\n",
              "14   Boats.go.com  Q3 2014   4597765.00\n",
              "15          Total  Q3 2014  44711917.00\n",
              "16    Cars.go.com  Q4 2014   5906352.00\n",
              "17  Planes.go.com  Q4 2014  45337642.00\n",
              "18   Boats.go.com  Q4 2014   5437214.00\n",
              "19          Total  Q4 2014  56681208.00\n",
              "20   Boats.go.com  Q1 2015   4736347.68\n",
              "21    Cars.go.com  Q1 2015  16757524.80\n",
              "22  Planes.go.com  Q1 2015  32529742.79\n",
              "23          Total  Q1 2015  54023615.27"
            ]
          },
          "metadata": {},
          "execution_count": 185
        }
      ]
    },
    {
      "cell_type": "markdown",
      "source": [
        "### Cars.go.com 1q15 Profit"
      ],
      "metadata": {
        "id": "K8ZMIjYHGOf7"
      }
    },
    {
      "cell_type": "code",
      "source": [
        "#concat and filter the data\n",
        "cars_roc = df_roc[df_roc['Product Line']=='Cars.go.com']\n",
        "cars_roc = cars_roc[df_roc['date'].isin(['Q4 2014','Q1 2015'])]\n",
        "cars_roc"
      ],
      "metadata": {
        "colab": {
          "base_uri": "https://localhost:8080/",
          "height": 112
        },
        "id": "g0Rb_3aY0n4e",
        "outputId": "45bf81fc-44cc-4b85-867e-dacb279ed4f9"
      },
      "execution_count": 250,
      "outputs": [
        {
          "output_type": "execute_result",
          "data": {
            "text/html": [
              "<div>\n",
              "<style scoped>\n",
              "    .dataframe tbody tr th:only-of-type {\n",
              "        vertical-align: middle;\n",
              "    }\n",
              "\n",
              "    .dataframe tbody tr th {\n",
              "        vertical-align: top;\n",
              "    }\n",
              "\n",
              "    .dataframe thead th {\n",
              "        text-align: right;\n",
              "    }\n",
              "</style>\n",
              "<table border=\"1\" class=\"dataframe\">\n",
              "  <thead>\n",
              "    <tr style=\"text-align: right;\">\n",
              "      <th></th>\n",
              "      <th>Product Line</th>\n",
              "      <th>date</th>\n",
              "      <th>Revenue</th>\n",
              "    </tr>\n",
              "  </thead>\n",
              "  <tbody>\n",
              "    <tr>\n",
              "      <th>16</th>\n",
              "      <td>Cars.go.com</td>\n",
              "      <td>Q4 2014</td>\n",
              "      <td>5906352.0</td>\n",
              "    </tr>\n",
              "    <tr>\n",
              "      <th>21</th>\n",
              "      <td>Cars.go.com</td>\n",
              "      <td>Q1 2015</td>\n",
              "      <td>16757524.8</td>\n",
              "    </tr>\n",
              "  </tbody>\n",
              "</table>\n",
              "</div>"
            ],
            "text/plain": [
              "   Product Line     date     Revenue\n",
              "16  Cars.go.com  Q4 2014   5906352.0\n",
              "21  Cars.go.com  Q1 2015  16757524.8"
            ]
          },
          "metadata": {},
          "execution_count": 250
        }
      ]
    },
    {
      "cell_type": "code",
      "source": [
        "cars_roc['Change'] = cars_roc['Revenue'].pct_change()\n",
        "cars_roc"
      ],
      "metadata": {
        "colab": {
          "base_uri": "https://localhost:8080/",
          "height": 112
        },
        "id": "4o5JVOqGPFjc",
        "outputId": "d887f490-8b6c-4102-dbae-b1fe8e9caa51"
      },
      "execution_count": 251,
      "outputs": [
        {
          "output_type": "execute_result",
          "data": {
            "text/html": [
              "<div>\n",
              "<style scoped>\n",
              "    .dataframe tbody tr th:only-of-type {\n",
              "        vertical-align: middle;\n",
              "    }\n",
              "\n",
              "    .dataframe tbody tr th {\n",
              "        vertical-align: top;\n",
              "    }\n",
              "\n",
              "    .dataframe thead th {\n",
              "        text-align: right;\n",
              "    }\n",
              "</style>\n",
              "<table border=\"1\" class=\"dataframe\">\n",
              "  <thead>\n",
              "    <tr style=\"text-align: right;\">\n",
              "      <th></th>\n",
              "      <th>Product Line</th>\n",
              "      <th>date</th>\n",
              "      <th>Revenue</th>\n",
              "      <th>Change</th>\n",
              "    </tr>\n",
              "  </thead>\n",
              "  <tbody>\n",
              "    <tr>\n",
              "      <th>16</th>\n",
              "      <td>Cars.go.com</td>\n",
              "      <td>Q4 2014</td>\n",
              "      <td>5906352.0</td>\n",
              "      <td>NaN</td>\n",
              "    </tr>\n",
              "    <tr>\n",
              "      <th>21</th>\n",
              "      <td>Cars.go.com</td>\n",
              "      <td>Q1 2015</td>\n",
              "      <td>16757524.8</td>\n",
              "      <td>1.837204</td>\n",
              "    </tr>\n",
              "  </tbody>\n",
              "</table>\n",
              "</div>"
            ],
            "text/plain": [
              "   Product Line     date     Revenue    Change\n",
              "16  Cars.go.com  Q4 2014   5906352.0       NaN\n",
              "21  Cars.go.com  Q1 2015  16757524.8  1.837204"
            ]
          },
          "metadata": {},
          "execution_count": 251
        }
      ]
    },
    {
      "cell_type": "code",
      "source": [
        "profit_roc = profit[profit['Product Line']=='Cars.go.com']\n",
        "profit_roc = profit_roc[profit_roc['date']=='Q4 2014']\n",
        "profit_4q14 = profit_roc['Profit'][16]\n",
        "profit_roc = profit_roc.append(pd.DataFrame({'Product Line':'Cars.go.com', \n",
        "                                             'date':'Q1 2015', \n",
        "                                             'Profit':profit_4q14+profit_4q14*cars_roc['Change'][21]},index=[0]))\n",
        "profit_roc"
      ],
      "metadata": {
        "colab": {
          "base_uri": "https://localhost:8080/",
          "height": 112
        },
        "id": "9IKbMCg_Wbhu",
        "outputId": "69a7e99d-a46c-4be9-8e7a-e94626c372ba"
      },
      "execution_count": 252,
      "outputs": [
        {
          "output_type": "execute_result",
          "data": {
            "text/html": [
              "<div>\n",
              "<style scoped>\n",
              "    .dataframe tbody tr th:only-of-type {\n",
              "        vertical-align: middle;\n",
              "    }\n",
              "\n",
              "    .dataframe tbody tr th {\n",
              "        vertical-align: top;\n",
              "    }\n",
              "\n",
              "    .dataframe thead th {\n",
              "        text-align: right;\n",
              "    }\n",
              "</style>\n",
              "<table border=\"1\" class=\"dataframe\">\n",
              "  <thead>\n",
              "    <tr style=\"text-align: right;\">\n",
              "      <th></th>\n",
              "      <th>Product Line</th>\n",
              "      <th>date</th>\n",
              "      <th>Profit</th>\n",
              "    </tr>\n",
              "  </thead>\n",
              "  <tbody>\n",
              "    <tr>\n",
              "      <th>16</th>\n",
              "      <td>Cars.go.com</td>\n",
              "      <td>Q4 2014</td>\n",
              "      <td>1181270.40</td>\n",
              "    </tr>\n",
              "    <tr>\n",
              "      <th>0</th>\n",
              "      <td>Cars.go.com</td>\n",
              "      <td>Q1 2015</td>\n",
              "      <td>3351504.96</td>\n",
              "    </tr>\n",
              "  </tbody>\n",
              "</table>\n",
              "</div>"
            ],
            "text/plain": [
              "   Product Line     date      Profit\n",
              "16  Cars.go.com  Q4 2014  1181270.40\n",
              "0   Cars.go.com  Q1 2015  3351504.96"
            ]
          },
          "metadata": {},
          "execution_count": 252
        }
      ]
    },
    {
      "cell_type": "markdown",
      "source": [
        "### Planes.go.com 1q15 Profit"
      ],
      "metadata": {
        "id": "FI-SHBQDfw_k"
      }
    },
    {
      "cell_type": "code",
      "source": [
        "planes_roc = df_roc[df_roc['Product Line']=='Planes.go.com']\n",
        "planes_roc = planes_roc[df_roc['date'].isin(['Q4 2014','Q1 2015'])]\n",
        "planes_roc"
      ],
      "metadata": {
        "colab": {
          "base_uri": "https://localhost:8080/",
          "height": 112
        },
        "id": "177aDerbf9zA",
        "outputId": "8b80279a-1152-4cdb-d06b-557551603755"
      },
      "execution_count": 254,
      "outputs": [
        {
          "output_type": "execute_result",
          "data": {
            "text/html": [
              "<div>\n",
              "<style scoped>\n",
              "    .dataframe tbody tr th:only-of-type {\n",
              "        vertical-align: middle;\n",
              "    }\n",
              "\n",
              "    .dataframe tbody tr th {\n",
              "        vertical-align: top;\n",
              "    }\n",
              "\n",
              "    .dataframe thead th {\n",
              "        text-align: right;\n",
              "    }\n",
              "</style>\n",
              "<table border=\"1\" class=\"dataframe\">\n",
              "  <thead>\n",
              "    <tr style=\"text-align: right;\">\n",
              "      <th></th>\n",
              "      <th>Product Line</th>\n",
              "      <th>date</th>\n",
              "      <th>Revenue</th>\n",
              "    </tr>\n",
              "  </thead>\n",
              "  <tbody>\n",
              "    <tr>\n",
              "      <th>17</th>\n",
              "      <td>Planes.go.com</td>\n",
              "      <td>Q4 2014</td>\n",
              "      <td>45337642.00</td>\n",
              "    </tr>\n",
              "    <tr>\n",
              "      <th>22</th>\n",
              "      <td>Planes.go.com</td>\n",
              "      <td>Q1 2015</td>\n",
              "      <td>32529742.79</td>\n",
              "    </tr>\n",
              "  </tbody>\n",
              "</table>\n",
              "</div>"
            ],
            "text/plain": [
              "     Product Line     date      Revenue\n",
              "17  Planes.go.com  Q4 2014  45337642.00\n",
              "22  Planes.go.com  Q1 2015  32529742.79"
            ]
          },
          "metadata": {},
          "execution_count": 254
        }
      ]
    },
    {
      "cell_type": "code",
      "source": [
        "planes_roc['Change'] = planes_roc['Revenue'].pct_change()\n",
        "planes_roc"
      ],
      "metadata": {
        "colab": {
          "base_uri": "https://localhost:8080/",
          "height": 112
        },
        "id": "R8Onf4q5gH9f",
        "outputId": "6ed50189-18f2-46eb-9b45-17bc3b6ea53e"
      },
      "execution_count": 255,
      "outputs": [
        {
          "output_type": "execute_result",
          "data": {
            "text/html": [
              "<div>\n",
              "<style scoped>\n",
              "    .dataframe tbody tr th:only-of-type {\n",
              "        vertical-align: middle;\n",
              "    }\n",
              "\n",
              "    .dataframe tbody tr th {\n",
              "        vertical-align: top;\n",
              "    }\n",
              "\n",
              "    .dataframe thead th {\n",
              "        text-align: right;\n",
              "    }\n",
              "</style>\n",
              "<table border=\"1\" class=\"dataframe\">\n",
              "  <thead>\n",
              "    <tr style=\"text-align: right;\">\n",
              "      <th></th>\n",
              "      <th>Product Line</th>\n",
              "      <th>date</th>\n",
              "      <th>Revenue</th>\n",
              "      <th>Change</th>\n",
              "    </tr>\n",
              "  </thead>\n",
              "  <tbody>\n",
              "    <tr>\n",
              "      <th>17</th>\n",
              "      <td>Planes.go.com</td>\n",
              "      <td>Q4 2014</td>\n",
              "      <td>45337642.00</td>\n",
              "      <td>NaN</td>\n",
              "    </tr>\n",
              "    <tr>\n",
              "      <th>22</th>\n",
              "      <td>Planes.go.com</td>\n",
              "      <td>Q1 2015</td>\n",
              "      <td>32529742.79</td>\n",
              "      <td>-0.2825</td>\n",
              "    </tr>\n",
              "  </tbody>\n",
              "</table>\n",
              "</div>"
            ],
            "text/plain": [
              "     Product Line     date      Revenue  Change\n",
              "17  Planes.go.com  Q4 2014  45337642.00     NaN\n",
              "22  Planes.go.com  Q1 2015  32529742.79 -0.2825"
            ]
          },
          "metadata": {},
          "execution_count": 255
        }
      ]
    },
    {
      "cell_type": "code",
      "source": [
        "profit_roc_p = profit[profit['Product Line']=='Planes.go.com']\n",
        "profit_roc_p = profit_roc_p[profit_roc_p['date']=='Q4 2014']\n",
        "profit_4q14_p = profit_roc_p['Profit'][17]\n",
        "profit_roc_p = profit_roc_p.append(pd.DataFrame({'Product Line':'Planes.go.com', \n",
        "                                             'date':'Q1 2015', \n",
        "                                             'Profit':profit_4q14_p+profit_4q14_p*planes_roc['Change'][22]},index=[0]))\n",
        "profit_roc_p"
      ],
      "metadata": {
        "colab": {
          "base_uri": "https://localhost:8080/",
          "height": 112
        },
        "id": "-KTeiESGgRxW",
        "outputId": "32132652-b15b-4914-8514-88eb6a62b965"
      },
      "execution_count": 256,
      "outputs": [
        {
          "output_type": "execute_result",
          "data": {
            "text/html": [
              "<div>\n",
              "<style scoped>\n",
              "    .dataframe tbody tr th:only-of-type {\n",
              "        vertical-align: middle;\n",
              "    }\n",
              "\n",
              "    .dataframe tbody tr th {\n",
              "        vertical-align: top;\n",
              "    }\n",
              "\n",
              "    .dataframe thead th {\n",
              "        text-align: right;\n",
              "    }\n",
              "</style>\n",
              "<table border=\"1\" class=\"dataframe\">\n",
              "  <thead>\n",
              "    <tr style=\"text-align: right;\">\n",
              "      <th></th>\n",
              "      <th>Product Line</th>\n",
              "      <th>date</th>\n",
              "      <th>Profit</th>\n",
              "    </tr>\n",
              "  </thead>\n",
              "  <tbody>\n",
              "    <tr>\n",
              "      <th>17</th>\n",
              "      <td>Planes.go.com</td>\n",
              "      <td>Q4 2014</td>\n",
              "      <td>226688.21000</td>\n",
              "    </tr>\n",
              "    <tr>\n",
              "      <th>0</th>\n",
              "      <td>Planes.go.com</td>\n",
              "      <td>Q1 2015</td>\n",
              "      <td>162648.71395</td>\n",
              "    </tr>\n",
              "  </tbody>\n",
              "</table>\n",
              "</div>"
            ],
            "text/plain": [
              "     Product Line     date        Profit\n",
              "17  Planes.go.com  Q4 2014  226688.21000\n",
              "0   Planes.go.com  Q1 2015  162648.71395"
            ]
          },
          "metadata": {},
          "execution_count": 256
        }
      ]
    },
    {
      "cell_type": "markdown",
      "source": [
        "### Boats.go.com 1q15 Profit"
      ],
      "metadata": {
        "id": "TQHJQf1chO7S"
      }
    },
    {
      "cell_type": "code",
      "source": [
        "boats_roc = df_roc[df_roc['Product Line']=='Boats.go.com']\n",
        "boats_roc = boats_roc[df_roc['date'].isin(['Q4 2014','Q1 2015'])]\n",
        "boats_roc"
      ],
      "metadata": {
        "colab": {
          "base_uri": "https://localhost:8080/",
          "height": 112
        },
        "id": "JA4kb2aYhSYP",
        "outputId": "7ed59f59-66f6-4ff4-b216-a523afc36740"
      },
      "execution_count": 257,
      "outputs": [
        {
          "output_type": "execute_result",
          "data": {
            "text/html": [
              "<div>\n",
              "<style scoped>\n",
              "    .dataframe tbody tr th:only-of-type {\n",
              "        vertical-align: middle;\n",
              "    }\n",
              "\n",
              "    .dataframe tbody tr th {\n",
              "        vertical-align: top;\n",
              "    }\n",
              "\n",
              "    .dataframe thead th {\n",
              "        text-align: right;\n",
              "    }\n",
              "</style>\n",
              "<table border=\"1\" class=\"dataframe\">\n",
              "  <thead>\n",
              "    <tr style=\"text-align: right;\">\n",
              "      <th></th>\n",
              "      <th>Product Line</th>\n",
              "      <th>date</th>\n",
              "      <th>Revenue</th>\n",
              "    </tr>\n",
              "  </thead>\n",
              "  <tbody>\n",
              "    <tr>\n",
              "      <th>18</th>\n",
              "      <td>Boats.go.com</td>\n",
              "      <td>Q4 2014</td>\n",
              "      <td>5437214.00</td>\n",
              "    </tr>\n",
              "    <tr>\n",
              "      <th>20</th>\n",
              "      <td>Boats.go.com</td>\n",
              "      <td>Q1 2015</td>\n",
              "      <td>4736347.68</td>\n",
              "    </tr>\n",
              "  </tbody>\n",
              "</table>\n",
              "</div>"
            ],
            "text/plain": [
              "    Product Line     date     Revenue\n",
              "18  Boats.go.com  Q4 2014  5437214.00\n",
              "20  Boats.go.com  Q1 2015  4736347.68"
            ]
          },
          "metadata": {},
          "execution_count": 257
        }
      ]
    },
    {
      "cell_type": "code",
      "source": [
        "boats_roc['Change'] = boats_roc['Revenue'].pct_change()\n",
        "boats_roc"
      ],
      "metadata": {
        "colab": {
          "base_uri": "https://localhost:8080/",
          "height": 112
        },
        "id": "VMMQKsHmhja6",
        "outputId": "9485d9e7-1c6a-4a4e-c3ef-abbf1269b59a"
      },
      "execution_count": 258,
      "outputs": [
        {
          "output_type": "execute_result",
          "data": {
            "text/html": [
              "<div>\n",
              "<style scoped>\n",
              "    .dataframe tbody tr th:only-of-type {\n",
              "        vertical-align: middle;\n",
              "    }\n",
              "\n",
              "    .dataframe tbody tr th {\n",
              "        vertical-align: top;\n",
              "    }\n",
              "\n",
              "    .dataframe thead th {\n",
              "        text-align: right;\n",
              "    }\n",
              "</style>\n",
              "<table border=\"1\" class=\"dataframe\">\n",
              "  <thead>\n",
              "    <tr style=\"text-align: right;\">\n",
              "      <th></th>\n",
              "      <th>Product Line</th>\n",
              "      <th>date</th>\n",
              "      <th>Revenue</th>\n",
              "      <th>Change</th>\n",
              "    </tr>\n",
              "  </thead>\n",
              "  <tbody>\n",
              "    <tr>\n",
              "      <th>18</th>\n",
              "      <td>Boats.go.com</td>\n",
              "      <td>Q4 2014</td>\n",
              "      <td>5437214.00</td>\n",
              "      <td>NaN</td>\n",
              "    </tr>\n",
              "    <tr>\n",
              "      <th>20</th>\n",
              "      <td>Boats.go.com</td>\n",
              "      <td>Q1 2015</td>\n",
              "      <td>4736347.68</td>\n",
              "      <td>-0.128902</td>\n",
              "    </tr>\n",
              "  </tbody>\n",
              "</table>\n",
              "</div>"
            ],
            "text/plain": [
              "    Product Line     date     Revenue    Change\n",
              "18  Boats.go.com  Q4 2014  5437214.00       NaN\n",
              "20  Boats.go.com  Q1 2015  4736347.68 -0.128902"
            ]
          },
          "metadata": {},
          "execution_count": 258
        }
      ]
    },
    {
      "cell_type": "code",
      "source": [
        "profit_roc_b = profit[profit['Product Line']=='Boats.go.com']\n",
        "profit_roc_b = profit_roc_b[profit_roc_b['date']=='Q4 2014']\n",
        "profit_4q14_b = profit_roc_b['Profit'][18]\n",
        "profit_roc_b = profit_roc_b.append(pd.DataFrame({'Product Line':'Boats.go.com', \n",
        "                                             'date':'Q1 2015', \n",
        "                                             'Profit':profit_4q14_b+profit_4q14_b*boats_roc['Change'][20]},index=[0]))\n",
        "profit_roc_b"
      ],
      "metadata": {
        "colab": {
          "base_uri": "https://localhost:8080/",
          "height": 112
        },
        "id": "aT3hXKzrhqTC",
        "outputId": "6ab1f72a-b2ed-4789-90a7-07e09edb5978"
      },
      "execution_count": 259,
      "outputs": [
        {
          "output_type": "execute_result",
          "data": {
            "text/html": [
              "<div>\n",
              "<style scoped>\n",
              "    .dataframe tbody tr th:only-of-type {\n",
              "        vertical-align: middle;\n",
              "    }\n",
              "\n",
              "    .dataframe tbody tr th {\n",
              "        vertical-align: top;\n",
              "    }\n",
              "\n",
              "    .dataframe thead th {\n",
              "        text-align: right;\n",
              "    }\n",
              "</style>\n",
              "<table border=\"1\" class=\"dataframe\">\n",
              "  <thead>\n",
              "    <tr style=\"text-align: right;\">\n",
              "      <th></th>\n",
              "      <th>Product Line</th>\n",
              "      <th>date</th>\n",
              "      <th>Profit</th>\n",
              "    </tr>\n",
              "  </thead>\n",
              "  <tbody>\n",
              "    <tr>\n",
              "      <th>18</th>\n",
              "      <td>Boats.go.com</td>\n",
              "      <td>Q4 2014</td>\n",
              "      <td>108744.2800</td>\n",
              "    </tr>\n",
              "    <tr>\n",
              "      <th>0</th>\n",
              "      <td>Boats.go.com</td>\n",
              "      <td>Q1 2015</td>\n",
              "      <td>94726.9536</td>\n",
              "    </tr>\n",
              "  </tbody>\n",
              "</table>\n",
              "</div>"
            ],
            "text/plain": [
              "    Product Line     date       Profit\n",
              "18  Boats.go.com  Q4 2014  108744.2800\n",
              "0   Boats.go.com  Q1 2015   94726.9536"
            ]
          },
          "metadata": {},
          "execution_count": 259
        }
      ]
    },
    {
      "cell_type": "code",
      "source": [
        "profit_1q15 = pd.concat([profit_roc,profit_roc_p,profit_roc_b])\n",
        "profit_1q15['Profit'] = profit_1q15['Profit'].apply(lambda x: '%.2f' % x)\n",
        "profit_1q15 = profit_1q15[profit_1q15['date']=='Q1 2015']\n",
        "profit_1q15"
      ],
      "metadata": {
        "colab": {
          "base_uri": "https://localhost:8080/",
          "height": 143
        },
        "id": "Fck-1JLXjH54",
        "outputId": "9ddd6519-2fe2-43fc-fdb6-6cdda23d5242"
      },
      "execution_count": 272,
      "outputs": [
        {
          "output_type": "execute_result",
          "data": {
            "text/html": [
              "<div>\n",
              "<style scoped>\n",
              "    .dataframe tbody tr th:only-of-type {\n",
              "        vertical-align: middle;\n",
              "    }\n",
              "\n",
              "    .dataframe tbody tr th {\n",
              "        vertical-align: top;\n",
              "    }\n",
              "\n",
              "    .dataframe thead th {\n",
              "        text-align: right;\n",
              "    }\n",
              "</style>\n",
              "<table border=\"1\" class=\"dataframe\">\n",
              "  <thead>\n",
              "    <tr style=\"text-align: right;\">\n",
              "      <th></th>\n",
              "      <th>Product Line</th>\n",
              "      <th>date</th>\n",
              "      <th>Profit</th>\n",
              "    </tr>\n",
              "  </thead>\n",
              "  <tbody>\n",
              "    <tr>\n",
              "      <th>0</th>\n",
              "      <td>Cars.go.com</td>\n",
              "      <td>Q1 2015</td>\n",
              "      <td>3351504.96</td>\n",
              "    </tr>\n",
              "    <tr>\n",
              "      <th>0</th>\n",
              "      <td>Planes.go.com</td>\n",
              "      <td>Q1 2015</td>\n",
              "      <td>162648.71</td>\n",
              "    </tr>\n",
              "    <tr>\n",
              "      <th>0</th>\n",
              "      <td>Boats.go.com</td>\n",
              "      <td>Q1 2015</td>\n",
              "      <td>94726.95</td>\n",
              "    </tr>\n",
              "  </tbody>\n",
              "</table>\n",
              "</div>"
            ],
            "text/plain": [
              "    Product Line     date      Profit\n",
              "0    Cars.go.com  Q1 2015  3351504.96\n",
              "0  Planes.go.com  Q1 2015   162648.71\n",
              "0   Boats.go.com  Q1 2015    94726.95"
            ]
          },
          "metadata": {},
          "execution_count": 272
        }
      ]
    },
    {
      "cell_type": "markdown",
      "source": [
        "### Conclusion"
      ],
      "metadata": {
        "id": "5C9uWSork1zz"
      }
    },
    {
      "cell_type": "markdown",
      "source": [
        "So the predict profit is 3351504.96 for Cars.go.com, 162648.71 for Planes.go.com, 94726.95 for Boats.go.com"
      ],
      "metadata": {
        "id": "AE7s8VbNk6Xy"
      }
    }
  ]
}